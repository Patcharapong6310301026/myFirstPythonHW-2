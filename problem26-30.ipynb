{
 "cells": [
  {
   "cell_type": "markdown",
   "metadata": {},
   "source": [
    "# Python Practice Book 26-30"
   ]
  },
  {
   "cell_type": "markdown",
   "metadata": {},
   "source": [
    "### นายวีรภัทร ทองน้อย 3 Oct 2020"
   ]
  },
  {
   "cell_type": "markdown",
   "metadata": {},
   "source": [
    "### Problem 26"
   ]
  },
  {
   "cell_type": "code",
   "execution_count": 2,
   "metadata": {},
   "outputs": [
    {
     "name": "stdout",
     "output_type": "stream",
     "text": [
      "1\n",
      "4\n"
     ]
    }
   ],
   "source": [
    "a = [1,2,3,4]\n",
    "def mn(a) :\n",
    "    mn = a[0]\n",
    "    for i in range(0,len(a)) :\n",
    "        if mn > a[i] :\n",
    "            mn = a[i]\n",
    "    return(mn)\n",
    "print(mn(a))\n",
    "def mx(a) :\n",
    "    mx = a[0]\n",
    "    for i in range(0,len(a)) :\n",
    "        if mx < a[i] :\n",
    "            mx = a[i]\n",
    "    return(mx)\n",
    "print(mx(a))"
   ]
  },
  {
   "cell_type": "markdown",
   "metadata": {},
   "source": [
    "### Problem 27"
   ]
  },
  {
   "cell_type": "code",
   "execution_count": 3,
   "metadata": {},
   "outputs": [],
   "source": [
    "x = [6,7,8,9]\n",
    "y = [10,11,12,13]\n",
    "z = [\"a\",\"b\",\"c\",\"d\"]"
   ]
  },
  {
   "cell_type": "code",
   "execution_count": 19,
   "metadata": {},
   "outputs": [],
   "source": [
    "def cumulativeSum(listIn) :\n",
    "    cumuValue = listIn[0]\n",
    "    cumList = []\n",
    "    cumList.append(cumuValue)\n",
    "    for i in range(1,len(listIn)) :\n",
    "        cumuValue = cumuValue + listIn[i]\n",
    "        cumList.append(cumuValue)\n",
    "    return cumList"
   ]
  },
  {
   "cell_type": "code",
   "execution_count": 20,
   "metadata": {},
   "outputs": [
    {
     "data": {
      "text/plain": [
       "[6, 13, 21, 30]"
      ]
     },
     "execution_count": 20,
     "metadata": {},
     "output_type": "execute_result"
    }
   ],
   "source": [
    "cumulativeSum(x)"
   ]
  },
  {
   "cell_type": "code",
   "execution_count": 21,
   "metadata": {},
   "outputs": [
    {
     "data": {
      "text/plain": [
       "[10, 21, 33, 46]"
      ]
     },
     "execution_count": 21,
     "metadata": {},
     "output_type": "execute_result"
    }
   ],
   "source": [
    "cumulativeSum(y)"
   ]
  },
  {
   "cell_type": "code",
   "execution_count": 22,
   "metadata": {},
   "outputs": [
    {
     "data": {
      "text/plain": [
       "['a', 'ab', 'abc', 'abcd']"
      ]
     },
     "execution_count": 22,
     "metadata": {},
     "output_type": "execute_result"
    }
   ],
   "source": [
    "cumulativeSum(z)"
   ]
  },
  {
   "cell_type": "markdown",
   "metadata": {},
   "source": [
    "### Problem 28"
   ]
  },
  {
   "cell_type": "code",
   "execution_count": 23,
   "metadata": {},
   "outputs": [],
   "source": [
    "x = [6,7,8,9]\n",
    "y = [10,11,12,13]\n",
    "z = [\"a\",\"b\",\"c\",\"d\"]"
   ]
  },
  {
   "cell_type": "code",
   "execution_count": 24,
   "metadata": {},
   "outputs": [],
   "source": [
    "def cumulativeProduct(listIn) :\n",
    "    cumuValue = listIn[0]\n",
    "    cumList = []\n",
    "    cumList.append(cumuValue)\n",
    "    for i in range(1,len(listIn)) :\n",
    "        cumuValue = cumuValue * listIn[i]\n",
    "        cumList.append(cumuValue)\n",
    "    return cumList"
   ]
  },
  {
   "cell_type": "code",
   "execution_count": 28,
   "metadata": {},
   "outputs": [
    {
     "data": {
      "text/plain": [
       "[6, 42, 336, 3024]"
      ]
     },
     "execution_count": 28,
     "metadata": {},
     "output_type": "execute_result"
    }
   ],
   "source": [
    "cumulativeProduct(x)"
   ]
  },
  {
   "cell_type": "code",
   "execution_count": 29,
   "metadata": {},
   "outputs": [
    {
     "data": {
      "text/plain": [
       "[10, 110, 1320, 17160]"
      ]
     },
     "execution_count": 29,
     "metadata": {},
     "output_type": "execute_result"
    }
   ],
   "source": [
    "cumulativeProduct(y)"
   ]
  },
  {
   "cell_type": "code",
   "execution_count": 31,
   "metadata": {},
   "outputs": [
    {
     "data": {
      "text/plain": [
       "['a', 'ab', 'abc', 'abcd']"
      ]
     },
     "execution_count": 31,
     "metadata": {},
     "output_type": "execute_result"
    }
   ],
   "source": [
    "cumulativeSum(z)"
   ]
  },
  {
   "cell_type": "markdown",
   "metadata": {},
   "source": [
    "### Problem 29"
   ]
  },
  {
   "cell_type": "code",
   "execution_count": 1,
   "metadata": {},
   "outputs": [],
   "source": [
    "def unqiue(listIn) :\n",
    "    UnqValue = listIn[0]\n",
    "    UnqList = []\n",
    "    UnqList.append(UnqValue)\n",
    "    for i in range(1,len(listIn)) :\n",
    "        uniqueCheck = 0\n",
    "        UnqValue = listIn[i]\n",
    "        for j in UnqList :\n",
    "            if j == UnqValue :\n",
    "                uniqueCheck = 1\n",
    "        if uniqueCheck == 0 :\n",
    "            UnqList.append(UnqValue)\n",
    "    return UnqList"
   ]
  },
  {
   "cell_type": "code",
   "execution_count": 3,
   "metadata": {},
   "outputs": [
    {
     "data": {
      "text/plain": [
       "[5, 7, 2, 1, 4]"
      ]
     },
     "execution_count": 3,
     "metadata": {},
     "output_type": "execute_result"
    }
   ],
   "source": [
    "unqiue([5,7,2,1,2,4])"
   ]
  },
  {
   "cell_type": "markdown",
   "metadata": {},
   "source": [
    "### Problem 30"
   ]
  },
  {
   "cell_type": "code",
   "execution_count": 4,
   "metadata": {},
   "outputs": [],
   "source": [
    "def dups(listIn) :\n",
    "    dupValue = listIn[0]\n",
    "    dupList = []\n",
    "    dupList.append(dupValue)\n",
    "    for i in range(1,len(listIn)) :\n",
    "        dupsCheck = 0\n",
    "        dupValue = listIn[i]\n",
    "        for j in dupList :\n",
    "            if j == dupValue :\n",
    "                dupsCheck = 1\n",
    "        if dupsCheck == 0 :\n",
    "           dupList.append(dupValue)\n",
    "    return dupList"
   ]
  },
  {
   "cell_type": "code",
   "execution_count": 5,
   "metadata": {},
   "outputs": [
    {
     "data": {
      "text/plain": [
       "[72, 7, 25, 62, 52, 42]"
      ]
     },
     "execution_count": 5,
     "metadata": {},
     "output_type": "execute_result"
    }
   ],
   "source": [
    "dups([72,7,25,62,52,42])"
   ]
  }
 ],
 "metadata": {
  "kernelspec": {
   "display_name": "Python 3",
   "language": "python",
   "name": "python3"
  },
  "language_info": {
   "codemirror_mode": {
    "name": "ipython",
    "version": 3
   },
   "file_extension": ".py",
   "mimetype": "text/x-python",
   "name": "python",
   "nbconvert_exporter": "python",
   "pygments_lexer": "ipython3",
   "version": "3.7.0"
  }
 },
 "nbformat": 4,
 "nbformat_minor": 2
}
